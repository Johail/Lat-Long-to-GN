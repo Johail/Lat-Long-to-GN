{
  "nbformat": 4,
  "nbformat_minor": 0,
  "metadata": {
    "colab": {
      "name": "Colombo District Lat and Long to GN Division.ipynb",
      "provenance": [],
      "collapsed_sections": [],
      "authorship_tag": "ABX9TyMtiVOqgtRMCT9rtihpbK3A"
    },
    "kernelspec": {
      "name": "python3",
      "display_name": "Python 3"
    },
    "language_info": {
      "name": "python"
    }
  },
  "cells": [
    {
      "cell_type": "code",
      "metadata": {
        "id": "YdKe0DawtmiV"
      },
      "source": [
        "pip install geopandas"
      ],
      "execution_count": null,
      "outputs": []
    },
    {
      "cell_type": "code",
      "metadata": {
        "id": "aTRIHaDK0FP_"
      },
      "source": [
        "import pandas as pd\n",
        "import matplotlib.pyplot as plt\n",
        "import geopandas as gpd\n",
        "from shapely.geometry import Point, Polygon, MultiPolygon\n",
        "import pyproj\n"
      ],
      "execution_count": 2,
      "outputs": []
    },
    {
      "cell_type": "code",
      "metadata": {
        "id": "nU6Xxyat0Ucr",
        "colab": {
          "base_uri": "https://localhost:8080/"
        },
        "outputId": "520db828-34ac-48bb-9494-0a1838a6b721"
      },
      "source": [
        "from google.colab import drive\n",
        "drive.mount(\"/content/gDrive\")"
      ],
      "execution_count": 3,
      "outputs": [
        {
          "output_type": "stream",
          "text": [
            "Mounted at /content/gDrive\n"
          ],
          "name": "stdout"
        }
      ]
    },
    {
      "cell_type": "code",
      "metadata": {
        "id": "GaMlD5by3wEN"
      },
      "source": [
        "df = gpd.read_file('/content/gDrive/MyDrive/data_2/COLOMBO/POLYGONfileName.shp') #File path directory to be used in the paramater of read_file"
      ],
      "execution_count": 4,
      "outputs": []
    },
    {
      "cell_type": "code",
      "metadata": {
        "id": "VZoIX_8OKXlz"
      },
      "source": [
        "listPolygons = df['geometry'].tolist()"
      ],
      "execution_count": 5,
      "outputs": []
    },
    {
      "cell_type": "code",
      "metadata": {
        "id": "FnuzEpt5BF5O"
      },
      "source": [
        "transformer = pyproj.Transformer.from_crs(\"epsg:4326\", \"epsg:3857\")\n",
        "point = transformer.transform(6.919325801971627, 79.85906916831844)\n",
        "point = Point(point)"
      ],
      "execution_count": 6,
      "outputs": []
    },
    {
      "cell_type": "code",
      "metadata": {
        "id": "Cz_3FrESLfaE"
      },
      "source": [
        "for polygon in listPolygons:\n",
        "  if point.within(polygon):\n",
        "    polygonFound = polygon"
      ],
      "execution_count": 7,
      "outputs": []
    },
    {
      "cell_type": "code",
      "metadata": {
        "id": "12GP9KBxOKWE"
      },
      "source": [
        "attributeRow = df.loc[df['geometry']== polygonFound]\n",
        "print(attributeRow['GND_N'])"
      ],
      "execution_count": null,
      "outputs": []
    }
  ]
}